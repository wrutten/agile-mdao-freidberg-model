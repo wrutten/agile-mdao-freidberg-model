{
 "cells": [
  {
   "attachments": {},
   "cell_type": "markdown",
   "metadata": {},
   "source": [
    "# Experimental Features\n",
    "\n",
    "- [Determining Variable Shapes at Runtime](dyn_shapes)\n",
    "- [Simultaneous Coloring of Approximated Derivatives](approx_coloring)\n",
    "- [Working with Plugins](plugins)\n",
    "- [Running Some Systems only Before or After an Optimization](pre_opt_post)\n",
    "- [Automatic Setting of Execution Order](auto_order)"
   ]
  }
 ],
 "metadata": {
  "celltoolbar": "Tags",
  "kernelspec": {
   "display_name": "Python 3",
   "language": "python",
   "name": "python3"
  },
  "language_info": {
   "codemirror_mode": {
    "name": "ipython",
    "version": 3
   },
   "file_extension": ".py",
   "mimetype": "text/x-python",
   "name": "python",
   "nbconvert_exporter": "python",
   "pygments_lexer": "ipython3",
   "version": "3.8.5"
  },
  "orphan": true
 },
 "nbformat": 4,
 "nbformat_minor": 4
}
