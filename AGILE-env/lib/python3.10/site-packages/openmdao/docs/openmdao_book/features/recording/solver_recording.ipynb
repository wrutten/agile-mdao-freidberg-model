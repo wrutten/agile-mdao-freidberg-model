{
 "cells": [
  {
   "cell_type": "code",
   "execution_count": null,
   "id": "0689e196",
   "metadata": {
    "tags": [
     "remove-input",
     "remove-output",
     "active-ipynb"
    ]
   },
   "outputs": [],
   "source": [
    "try:\n",
    "    from openmdao.utils.notebook_utils import notebook_mode\n",
    "except ImportError:\n",
    "    !python -m pip install openmdao[notebooks]"
   ]
  },
  {
   "cell_type": "code",
   "execution_count": null,
   "id": "fcc6fd0a",
   "metadata": {
    "tags": [
     "remove-input",
     "remove-output"
    ]
   },
   "outputs": [],
   "source": [
    "from openmdao.utils.assert_utils import assert_near_equal\n",
    "\n",
    "import os\n",
    "if os.path.exists('cases.sql'):\n",
    "    os.remove('cases.sql')"
   ]
  },
  {
   "cell_type": "markdown",
   "id": "33c01cc9",
   "metadata": {},
   "source": [
    "# Solver Recording\n",
    "Solver recording is useful when you want to record the iterations within a solver. \n",
    "The recorder can capture the values of states, errors, and residuals as the solver converges."
   ]
  },
  {
   "cell_type": "code",
   "execution_count": null,
   "id": "fe21ad44",
   "metadata": {
    "scrolled": true,
    "tags": [
     "remove-input"
    ]
   },
   "outputs": [],
   "source": [
    "import openmdao.api as om\n",
    "om.show_options_table(\"openmdao.solvers.solver.Solver\", options_dict=\"recording_options\")"
   ]
  },
  {
   "cell_type": "markdown",
   "id": "21d84a49",
   "metadata": {},
   "source": [
    "```{note}\n",
    "Note that the `excludes` option takes precedence over the `includes` option.\n",
    "```\n",
    "\n",
    "```{note}\n",
    "The paths given in the `includes` and `excludes` options are relative to the `Group` that the solver is attached to.\n",
    "```\n",
    "\n",
    "```{note}\n",
    "It is currently not possible to record linear solvers.\n",
    "````"
   ]
  },
  {
   "cell_type": "markdown",
   "id": "a48b03ac",
   "metadata": {},
   "source": [
    "## Solver Recording Example"
   ]
  },
  {
   "cell_type": "code",
   "execution_count": null,
   "id": "dc82b273",
   "metadata": {
    "tags": [
     "remove-input",
     "remove-output"
    ]
   },
   "outputs": [],
   "source": [
    "from openmdao.utils.notebook_utils import get_code\n",
    "from myst_nb import glue\n",
    "glue(\"code_src91\", get_code(\"openmdao.test_suite.components.sellar_feature.SellarDerivatives\"), display=False)"
   ]
  },
  {
   "cell_type": "markdown",
   "id": "8da9bbea",
   "metadata": {},
   "source": [
    ":::{Admonition} `SellarDerivatives` class definition \n",
    ":class: dropdown\n",
    "\n",
    "{glue:}`code_src91`\n",
    ":::"
   ]
  },
  {
   "cell_type": "code",
   "execution_count": null,
   "id": "fab31040",
   "metadata": {
    "scrolled": true
   },
   "outputs": [],
   "source": [
    "import openmdao.api as om\n",
    "from openmdao.test_suite.components.sellar_feature import SellarDerivatives\n",
    "\n",
    "prob = om.Problem(model=SellarDerivatives())\n",
    "prob.setup()\n",
    "\n",
    "recorder = om.SqliteRecorder(\"cases.sql\")\n",
    "\n",
    "solver = prob.model.nonlinear_solver = om.NonlinearBlockGS()\n",
    "solver.add_recorder(recorder)\n",
    "solver.recording_options['record_abs_error'] = True\n",
    "solver.options['use_apply_nonlinear'] = True\n",
    "\n",
    "prob.run_model()"
   ]
  },
  {
   "cell_type": "code",
   "execution_count": null,
   "id": "34be0adb",
   "metadata": {},
   "outputs": [],
   "source": [
    "prob.cleanup()\n",
    "cr = om.CaseReader(\"cases.sql\")\n",
    "solver_cases = cr.list_cases('root.nonlinear_solver')"
   ]
  },
  {
   "cell_type": "code",
   "execution_count": null,
   "id": "5276ab0a",
   "metadata": {
    "tags": [
     "remove-input",
     "remove-output"
    ]
   },
   "outputs": [],
   "source": [
    "assert len(solver_cases) == 7"
   ]
  },
  {
   "cell_type": "code",
   "execution_count": null,
   "id": "b8f777c8",
   "metadata": {
    "scrolled": true
   },
   "outputs": [],
   "source": [
    "for case_id in solver_cases:\n",
    "    print(cr.get_case(case_id).abs_err)"
   ]
  },
  {
   "cell_type": "code",
   "execution_count": null,
   "id": "cc3114c8",
   "metadata": {
    "tags": [
     "remove-input",
     "remove-output"
    ]
   },
   "outputs": [],
   "source": [
    "assert_near_equal(cr.get_case(0).abs_err, 2.2545141, tolerance=1e-8)"
   ]
  }
 ],
 "metadata": {
  "celltoolbar": "Tags",
  "kernelspec": {
   "display_name": "Python 3 (ipykernel)",
   "language": "python",
   "name": "python3"
  },
  "language_info": {
   "codemirror_mode": {
    "name": "ipython",
    "version": 3
   },
   "file_extension": ".py",
   "mimetype": "text/x-python",
   "name": "python",
   "nbconvert_exporter": "python",
   "pygments_lexer": "ipython3",
   "version": "3.10.5"
  },
  "orphan": true
 },
 "nbformat": 4,
 "nbformat_minor": 5
}
