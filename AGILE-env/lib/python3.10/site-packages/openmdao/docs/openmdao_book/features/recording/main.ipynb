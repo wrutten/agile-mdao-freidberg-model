{
 "cells": [
  {
   "cell_type": "markdown",
   "metadata": {},
   "source": [
    "# Recording Data\n",
    "\n",
    "- [Solver Recording](solver_recording.ipynb)\n",
    "- [Driver Recording](driver_recording.ipynb)\n",
    "- [Problem Recording](problem_recording.ipynb)\n",
    "- [System Recording](system_recording.ipynb)\n",
    "- [Case Recording Options](case_recording_options.ipynb)\n",
    "- [Case Reader](case_reader.ipynb)\n",
    "- [Getting Data from a Case](case_reader_data.ipynb)\n",
    "- [Getting Metadata from a Recording](case_reader_metadata.ipynb)\n",
    "- [Reloading Case Data into a Model](loading_cases.ipynb)"
   ]
  }
 ],
 "metadata": {
  "celltoolbar": "Tags",
  "kernelspec": {
   "display_name": "Python 3",
   "language": "python",
   "name": "python3"
  },
  "language_info": {
   "codemirror_mode": {
    "name": "ipython",
    "version": 3
   },
   "file_extension": ".py",
   "mimetype": "text/x-python",
   "name": "python",
   "nbconvert_exporter": "python",
   "pygments_lexer": "ipython3",
   "version": "3.8.5"
  },
  "orphan": true
 },
 "nbformat": 4,
 "nbformat_minor": 4
}
